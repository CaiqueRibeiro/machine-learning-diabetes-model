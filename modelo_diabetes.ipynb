{
 "cells": [
  {
   "cell_type": "code",
   "execution_count": 1,
   "metadata": {},
   "outputs": [],
   "source": [
    "import pandas as pd\n",
    "import matplotlib.pyplot as plt\n",
    "import seaborn as sns"
   ]
  },
  {
   "cell_type": "code",
   "execution_count": 2,
   "metadata": {},
   "outputs": [],
   "source": [
    "# REGRESSION MODEL\n",
    "# File to dataframe\n",
    "df_exames = pd.read_csv('./datasets/exame_diabetes.csv')"
   ]
  },
  {
   "cell_type": "code",
   "execution_count": null,
   "metadata": {},
   "outputs": [],
   "source": [
    "# Visualize structure\n",
    "df_exames.info()"
   ]
  },
  {
   "cell_type": "code",
   "execution_count": 4,
   "metadata": {},
   "outputs": [],
   "source": [
    "# removing features that are not relevant to the model\n",
    "df_exames.drop(columns=['id_paciente'], axis=1, inplace=True)"
   ]
  },
  {
   "cell_type": "code",
   "execution_count": 5,
   "metadata": {},
   "outputs": [],
   "source": [
    "# using one-hot encoding to transform categorical data into numerical data\n",
    "df_exames = pd.get_dummies(df_exames, columns=['genero'], dtype='int64')"
   ]
  },
  {
   "cell_type": "code",
   "execution_count": null,
   "metadata": {},
   "outputs": [],
   "source": [
    "# heat map: verify if two features are correlated, so I can remove one of them\n",
    "# annot: show the correlation value in each cell\n",
    "sns.heatmap(df_exames.corr(), vmin=-1, vmax=1, annot=True)"
   ]
  },
  {
   "cell_type": "code",
   "execution_count": null,
   "metadata": {},
   "outputs": [],
   "source": [
    "# heat map just with target feature (resultado) and its correlation with other features\n",
    "# It is sorted by the correlation value with target feature\n",
    "# cmap: choses the color in the graph\n",
    "sns.heatmap(df_exames.corr()[['resultado']].sort_values(by='resultado', ascending=False),\n",
    "            vmin=-1, vmax=1, annot=True, cmap='BrBG')"
   ]
  },
  {
   "cell_type": "code",
   "execution_count": null,
   "metadata": {},
   "outputs": [],
   "source": [
    "# Scatter Plot (Dispersion) with Distribution\n",
    "# figsize: size of the figure\n",
    "# diagonal: what to show in the diagonal of the graph\n",
    "pd.plotting.scatter_matrix(df_exames, alpha=0.2, figsize=(6, 6), diagonal='kde')"
   ]
  },
  {
   "cell_type": "code",
   "execution_count": null,
   "metadata": {},
   "outputs": [],
   "source": [
    "# Creating a new feature from two or more to realize if this new feature have correlation\n",
    "# IMC = weight (kg) / (height (m) ** 2)\n",
    "df_exames['imc'] = df_exames['peso'] / ((df_exames['altura'] / 100) ** 2)"
   ]
  }
 ],
 "metadata": {
  "kernelspec": {
   "display_name": "Python 3",
   "language": "python",
   "name": "python3"
  },
  "language_info": {
   "codemirror_mode": {
    "name": "ipython",
    "version": 3
   },
   "file_extension": ".py",
   "mimetype": "text/x-python",
   "name": "python",
   "nbconvert_exporter": "python",
   "pygments_lexer": "ipython3",
   "version": "3.9.15"
  }
 },
 "nbformat": 4,
 "nbformat_minor": 2
}
